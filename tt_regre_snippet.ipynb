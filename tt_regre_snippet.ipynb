{
 "cells": [
  {
   "cell_type": "code",
   "execution_count": 3,
   "metadata": {},
   "outputs": [],
   "source": [
    "import tensorflow as tf\n",
    "import t3f"
   ]
  },
  {
   "cell_type": "code",
   "execution_count": 4,
   "metadata": {
    "collapsed": true
   },
   "outputs": [],
   "source": [
    "# x imitates a batch of inputs where each input \n",
    "# corresponds to 8 4-dimensionsal features\n",
    "x = tf.placeholder(tf.float32, (None, 8, 4))"
   ]
  },
  {
   "cell_type": "code",
   "execution_count": 5,
   "metadata": {
    "collapsed": true
   },
   "outputs": [],
   "source": [
    "# split x into 8 4-dimensional vectors and reshape them\n",
    "# in 3d tensors of size 1 x 4 x 1 so we can construct TT\n",
    "crs_ = tf.unstack(x, axis=1)"
   ]
  },
  {
   "cell_type": "code",
   "execution_count": 6,
   "metadata": {
    "collapsed": true
   },
   "outputs": [],
   "source": [
    "tt_cores = []\n",
    "for core in crs_:\n",
    "    tt_cores.append(tf.reshape(core, (-1, 1, 4, 1)))"
   ]
  },
  {
   "cell_type": "code",
   "execution_count": 7,
   "metadata": {
    "collapsed": true
   },
   "outputs": [],
   "source": [
    "# now we can construct the feature tensor\n",
    "# we use the TensorTrainBatch class (for each input we have a separate TT)"
   ]
  },
  {
   "cell_type": "code",
   "execution_count": 8,
   "metadata": {
    "collapsed": true
   },
   "outputs": [],
   "source": [
    "f_tensor = t3f.TensorTrainBatch(tt_cores)"
   ]
  },
  {
   "cell_type": "code",
   "execution_count": 9,
   "metadata": {},
   "outputs": [
    {
     "name": "stdout",
     "output_type": "stream",
     "text": [
      "A (?) element batch of Tensor Trains of shape (4, 4, 4, 4, 4, 4, 4, 4), TT-ranks: (1, 1, 1, 1, 1, 1, 1, 1, 1)\n"
     ]
    }
   ],
   "source": [
    "print(f_tensor)"
   ]
  },
  {
   "cell_type": "code",
   "execution_count": 10,
   "metadata": {
    "collapsed": true
   },
   "outputs": [],
   "source": [
    "# to perform regression with say 5 outputs we will create\n",
    "# a TT variable of type TensorTrainBatch with batch size 5\n",
    "# and then construct the matrix of inner products\n",
    "# (total contractions of each TT in f_tensor and of each TT in the weights batch)"
   ]
  },
  {
   "cell_type": "code",
   "execution_count": 11,
   "metadata": {
    "collapsed": true
   },
   "outputs": [],
   "source": [
    "w_ = t3f.random_tensor_batch(shape=8 * [4,], tt_rank=2, batch_size=5)\n",
    "\n",
    "w = t3f.get_variable('w', initializer=w_)"
   ]
  },
  {
   "cell_type": "code",
   "execution_count": 12,
   "metadata": {
    "collapsed": true
   },
   "outputs": [],
   "source": [
    "logits = t3f.pairwise_flat_inner(f_tensor, w)"
   ]
  },
  {
   "cell_type": "code",
   "execution_count": 13,
   "metadata": {
    "collapsed": true
   },
   "outputs": [],
   "source": [
    "# this is a tensor of size None x 5\n",
    "# need to make a tiny fix in t3f.pairwise_flat_inner\n",
    "# so the shape is correctly printed: \n",
    "# tf.squeeze(res) -> tf.squeeze(res, axis=[2, 3])\n",
    "# in the return statement"
   ]
  }
 ],
 "metadata": {
  "kernelspec": {
   "display_name": "Environment (conda_tf)",
   "language": "python",
   "name": "conda_tf"
  },
  "language_info": {
   "codemirror_mode": {
    "name": "ipython",
    "version": 3
   },
   "file_extension": ".py",
   "mimetype": "text/x-python",
   "name": "python",
   "nbconvert_exporter": "python",
   "pygments_lexer": "ipython3",
   "version": "3.5.4"
  }
 },
 "nbformat": 4,
 "nbformat_minor": 2
}
